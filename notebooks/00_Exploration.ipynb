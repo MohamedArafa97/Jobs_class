{
 "cells": [
  {
   "cell_type": "code",
   "execution_count": null,
   "id": "fbd2a280",
   "metadata": {},
   "outputs": [],
   "source": [
    "DATAPATH=\"C:/Users/Mohamed Arafa/Jobs_class/data/raw/survey_results_public.csv\""
   ]
  },
  {
   "cell_type": "code",
   "execution_count": null,
   "id": "795766a1",
   "metadata": {},
   "outputs": [],
   "source": [
    "import pandas as pd\n",
    "import numpy as np\n",
    "pd.options.display.max_rows = 10000"
   ]
  },
  {
   "cell_type": "code",
   "execution_count": null,
   "id": "7c20782d",
   "metadata": {},
   "outputs": [],
   "source": [
    "raw_df=pd.read_csv(DATAPATH)\n",
    "raw_df.shape"
   ]
  },
  {
   "cell_type": "code",
   "execution_count": null,
   "id": "eac55be2",
   "metadata": {
    "scrolled": false
   },
   "outputs": [],
   "source": [
    "raw_df.sample(1).iloc[0]\n"
   ]
  },
  {
   "cell_type": "code",
   "execution_count": null,
   "id": "aa999f92",
   "metadata": {},
   "outputs": [],
   "source": [
    "raw_df.info()"
   ]
  },
  {
   "cell_type": "code",
   "execution_count": null,
   "id": "9033dd64",
   "metadata": {},
   "outputs": [],
   "source": [
    "raw_df.describe()"
   ]
  },
  {
   "cell_type": "code",
   "execution_count": null,
   "id": "0b9f7f48",
   "metadata": {},
   "outputs": [],
   "source": [
    "cols_invest=[\"YearsCode\",\"YearsCodePro\",\"LanguageHaveWorkedWith\"]\n",
    "for col in cols_invest: \n",
    "    print(col)\n",
    "    print(raw_df[col].unique().tolist())\n",
    "    print('--------------------------')\n",
    "    print()"
   ]
  },
  {
   "cell_type": "code",
   "execution_count": null,
   "id": "eb9dace9",
   "metadata": {},
   "outputs": [],
   "source": []
  }
 ],
 "metadata": {
  "kernelspec": {
   "display_name": "Python 3 (ipykernel)",
   "language": "python",
   "name": "python3"
  },
  "language_info": {
   "codemirror_mode": {
    "name": "ipython",
    "version": 3
   },
   "file_extension": ".py",
   "mimetype": "text/x-python",
   "name": "python",
   "nbconvert_exporter": "python",
   "pygments_lexer": "ipython3",
   "version": "3.9.13"
  }
 },
 "nbformat": 4,
 "nbformat_minor": 5
}
